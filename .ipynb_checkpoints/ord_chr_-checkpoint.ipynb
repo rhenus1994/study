{
 "cells": [
  {
   "cell_type": "code",
   "execution_count": 3,
   "metadata": {},
   "outputs": [
    {
     "data": {
      "text/plain": [
       "'{'"
      ]
     },
     "execution_count": 3,
     "metadata": {},
     "output_type": "execute_result"
    }
   ],
   "source": [
    "chr(123)"
   ]
  },
  {
   "cell_type": "code",
   "execution_count": 4,
   "metadata": {},
   "outputs": [
    {
     "data": {
      "text/plain": [
       "123"
      ]
     },
     "execution_count": 4,
     "metadata": {},
     "output_type": "execute_result"
    }
   ],
   "source": [
    "ord('{')"
   ]
  },
  {
   "cell_type": "code",
   "execution_count": 7,
   "metadata": {
    "collapsed": true
   },
   "outputs": [],
   "source": [
    "import random\n",
    "\n",
    "def randW(len):\n",
    "    '''\n",
    "    随机生成len长度的包含数字、字母(大小)的字符串\n",
    "    @len  随机字符串长度\n",
    "    @return 随机字符串\n",
    "    '''\n",
    "    randStr = []\n",
    "    for _ in range(len):\n",
    "        i_ = random.randint(0,2)  # [0,2] ,0 表示数字，1 大写字母，2小写字母\n",
    "        start_, end_ = (ord('0'), ord('9')) if i_ == 0 else (ord('A'),ord('Z'))  if i_ == 1 else (ord('a'), ord('z'))\n",
    "        chr_ = chr(random.randint(start_,end_))\n",
    "        randStr.append(ch)\n",
    "    \n",
    "    return ''.join(randStr)"
   ]
  },
  {
   "cell_type": "code",
   "execution_count": 14,
   "metadata": {},
   "outputs": [
    {
     "data": {
      "text/plain": [
       "'u6Eg0a'"
      ]
     },
     "execution_count": 14,
     "metadata": {},
     "output_type": "execute_result"
    }
   ],
   "source": [
    "randW(6)"
   ]
  }
 ],
 "metadata": {
  "kernelspec": {
   "display_name": "Python 3",
   "language": "python",
   "name": "python3"
  },
  "language_info": {
   "codemirror_mode": {
    "name": "ipython",
    "version": 3
   },
   "file_extension": ".py",
   "mimetype": "text/x-python",
   "name": "python",
   "nbconvert_exporter": "python",
   "pygments_lexer": "ipython3",
   "version": "3.6.5"
  }
 },
 "nbformat": 4,
 "nbformat_minor": 2
}
